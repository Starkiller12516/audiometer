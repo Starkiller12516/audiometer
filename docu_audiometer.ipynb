{
 "cells": [
  {
   "cell_type": "markdown",
   "metadata": {},
   "source": [
    "#Audiometer"
   ]
  },
  {
   "cell_type": "markdown",
   "metadata": {},
   "source": [
    "## 1) What is an audiometer?"
   ]
  },
  {
   "cell_type": "markdown",
   "metadata": {},
   "source": [
    "An audiometer is a device which evaluates the hearing ability. The hearing ability is characterized by the intensity and frequency range of sound that the human ear is capable to detect. Therefore, the audiometer plays pure tones of different frequency and intensity through a earspeaker, bone conduction hearing aid or a loudspeaker. The sequence of measurement is defined by the standard ISO EN 8253 1-3. The technical standard is described in ISO EN 60645 1-3. Furthermore, audiometers have to meet the requirements of calibration according to the series of standards ISO 389. "
   ]
  },
  {
   "cell_type": "markdown",
   "metadata": {
    "collapsed": true
   },
   "source": [
    "## 2) Instructions for the test persons"
   ]
  },
  {
   "cell_type": "markdown",
   "metadata": {},
   "source": [
    " * "
   ]
  },
  {
   "cell_type": "markdown",
   "metadata": {},
   "source": [
    "*"
   ]
  },
  {
   "cell_type": "markdown",
   "metadata": {},
   "source": [
    "*"
   ]
  },
  {
   "cell_type": "markdown",
   "metadata": {},
   "source": [
    "## 3) Determination of hearing threshold level with air conduction and fixed frequency"
   ]
  },
  {
   "cell_type": "markdown",
   "metadata": {},
   "source": [
    "### 3.1) Manually controlled determination of hearing threshold level"
   ]
  },
  {
   "cell_type": "markdown",
   "metadata": {},
   "source": [
    "Instructions: \n",
    "* Frequency range = 125 Hz - 8000 Hz (according to ISO 389-7 a frequency range of 20 Hz - 16000 Hz is also possible)\n",
    "* Continous test tone with a duration of 1-2 seconds (pulsed tones are also possible, but not recommended [ISO8253-1 ch. 6.2.1])\n",
    "* There is a break after the answer of the test person. The duration of break varies (not shorter than the duration of test tone)\n",
    "* At the beginning you have a test period to become familiar with using the sound system <br>\n",
    "  For Example:\n",
    "     * 1) Audible tone (e.g. 1000 Hz, 40 dB)\n",
    "     * 2) Decreasing level in steps of 20 dB until no answer is given\n",
    "     * 3) Increasing level in steps of 10 dB unitl an answer is given\n",
    "     * 4) Repeat the tone at the same level\n"
   ]
  },
  {
   "cell_type": "markdown",
   "metadata": {},
   "source": [
    "For a better overview for the familiarization, have a look to the flowchart below."
   ]
  },
  {
   "cell_type": "markdown",
   "metadata": {},
   "source": [
    "![flowchart_familiarization](images/flowchart_familiarization.png)"
   ]
  },
  {
   "cell_type": "markdown",
   "metadata": {},
   "source": [
    "Source: ISO 8253-1 ch. 6.2.2 has been converted into a flowchart "
   ]
  },
  {
   "cell_type": "markdown",
   "metadata": {},
   "source": [
    "#### 3.1.1) Measuring hearing threshold level without masking"
   ]
  },
  {
   "cell_type": "markdown",
   "metadata": {},
   "source": [
    "In this case two testing procedures are described: *ascending method* and *bracketing method*. By carrying out the two methods properly, both will provide the same hearing threshold levels. Therefore, the author has chosen to describe only the *ascending method*. The method is shown in a flow chart below."
   ]
  },
  {
   "cell_type": "markdown",
   "metadata": {
    "collapsed": false
   },
   "source": [
    "![flowchart_ascending_method](images/flowchart_ascending.png)"
   ]
  },
  {
   "cell_type": "markdown",
   "metadata": {},
   "source": [
    "### 3.2) Automatically registered determination of hearing threshold level"
   ]
  },
  {
   "cell_type": "markdown",
   "metadata": {},
   "source": [
    "According to the method of Georg v. Bêkêsy an automatic audiometer increases the tone continuously as long as a signal button is pressed and decreases the tone when the button is released. The tone can be either continuously or pulsed. Comparing these different audiograms (pulsed and continuously) provide information about the type of hearing loss. <br> The test parameters are described In ISO 8253-1 and DIN EN 60645-1 :  "
   ]
  },
  {
   "cell_type": "markdown",
   "metadata": {},
   "source": [
    "* Frequency range = 125 Hz - 8000 Hz (DIN 60645-1 ch. 6.1.1)\n",
    "* Velocity of frequency change \n",
    "   * Fixed frequency method: not less than 30 sec at each frequency (DIN 60645-1 ch. 6.1.4)\n",
    "   * Continuous frequency change: 1 Octave / minute (+/- 25 %) (DIN 60645-1 ch. 6.1.4)\n",
    "* Rate of change of intensity = 2.5 dB / sec (DIN 60645-1 ch. 8.4.3)"
   ]
  },
  {
   "cell_type": "markdown",
   "metadata": {},
   "source": [
    "#### 3.2.1) Parameters of a pulsed tone (DIN 60645-1 ch. 8.6.4)"
   ]
  },
  {
   "cell_type": "markdown",
   "metadata": {},
   "source": [
    "* Rise time: BC must be at least 20 ms and may not exceed 50 ms \n",
    "* Release time: EG must be at least 20 ms and may not exceed 50 ms\n",
    "* Sound pressure level has to change continuously without discontinuity between B and C and E and G\n",
    "* CE must be at least 150 ms \n",
    "* FJ and JK must be (225 +/- 40) ms\n",
    "* The level between G and I must be at least 20 dB less than the maximum of CE "
   ]
  },
  {
   "cell_type": "markdown",
   "metadata": {},
   "source": [
    "#### Envelope of pulsed tones"
   ]
  },
  {
   "cell_type": "markdown",
   "metadata": {},
   "source": [
    "<img src=\"images/envelope_of_pulsed_tones.png\" alt=\"envelope_of_pulsed_tones\" style=\"width: 800px;\"/>"
   ]
  },
  {
   "cell_type": "markdown",
   "metadata": {},
   "source": [
    "Source: DIN EN 60645-1 (figure 1)"
   ]
  },
  {
   "cell_type": "markdown",
   "metadata": {},
   "source": [
    "# 4) The Audiogram"
   ]
  },
  {
   "cell_type": "markdown",
   "metadata": {},
   "source": [
    "An audiogram represents the hearing treshold level graphically. The x-axis shows low to high frequencies in Hz from left to right and the y-axis represents the sound intensity in dBHL from soft sounds at the top to loud sounds at the bottom. The sound intensity is measured in dBHL (dB Hearing Level), because its corresponds to the average of normal hearing people. The normal hearing level refers to 0 dB. According to ISO 8253-1 ch. 10, one octave on the frequency axis shall correspond to 20 dB on the hearing level axis (see figure below). "
   ]
  },
  {
   "cell_type": "markdown",
   "metadata": {},
   "source": [
    "<img src=\"images/example_audiogram.jpg\" alt=\"example_audiogram\" style=\"width: 400px;\"/>"
   ]
  },
  {
   "cell_type": "markdown",
   "metadata": {},
   "source": [
    "Source: http://entadhearingaids.com/files/2013/04/Audiogram-NIH.jpg"
   ]
  },
  {
   "cell_type": "markdown",
   "metadata": {},
   "source": [
    "For the representation of the hearing treshold level different symbols are necessary (see table below). The measuring points are interpolated linearly: a solid line for air conduction and a dashed line for bone conduction. If colors are used, red stands for the symbol and connecting line of the right ear and blue for the symbol and connecting line of the left ear."
   ]
  },
  {
   "cell_type": "markdown",
   "metadata": {},
   "source": [
    "<img src=\"images/table_symbols_audiogram.png\" alt=\"table_symbols_audiogram\" style=\"width: 600px;\"/>"
   ]
  },
  {
   "cell_type": "markdown",
   "metadata": {},
   "source": [
    "Table: Symbols for the graphical presentation of hearing threshold levels <br> Source: DIN ISO 8253-1, ch. 10, Table 1"
   ]
  },
  {
   "cell_type": "markdown",
   "metadata": {},
   "source": [
    "# 5) Links"
   ]
  },
  {
   "cell_type": "markdown",
   "metadata": {},
   "source": [
    "https://de.wikipedia.org/wiki/B%C3%A9k%C3%A9sy-Audiometrie"
   ]
  },
  {
   "cell_type": "markdown",
   "metadata": {
    "collapsed": true
   },
   "source": [
    "Georg v. Bêkêsy: A New Audiometer: http://www.tandfonline.com/doi/pdf/10.3109/00016484709123756"
   ]
  },
  {
   "cell_type": "markdown",
   "metadata": {},
   "source": [
    "http://www.who.int/entity/occupational_health/publications/noise8.pdf"
   ]
  },
  {
   "cell_type": "markdown",
   "metadata": {},
   "source": [
    "http://www.uni-oldenburg.de/fileadmin/user_upload/c3l/master/mde/download/Masterarbeit_J.-H.Schmidt.pdf"
   ]
  },
  {
   "cell_type": "markdown",
   "metadata": {},
   "source": [
    "https://en.wikipedia.org/wiki/Audiogram"
   ]
  },
  {
   "cell_type": "markdown",
   "metadata": {
    "collapsed": true
   },
   "source": [
    "# 6) Standards"
   ]
  },
  {
   "cell_type": "markdown",
   "metadata": {},
   "source": [
    "Audiometric test methods: <br>\n",
    "DIN EN ISO 8253-1 (2011) <br>\n",
    "DIN EN ISO 8253-2 (2010) <br>\n",
    "DIN EN ISO 8253-3 (2012) <br>"
   ]
  },
  {
   "cell_type": "markdown",
   "metadata": {},
   "source": [
    "Technical standards: <br>\n",
    "DIN EN 60645-1 (2015) <br>\n",
    "DIN EN 60645-2 (1997) <br>\n",
    "DIN EN 60645-3 (2008) <br>"
   ]
  },
  {
   "cell_type": "markdown",
   "metadata": {},
   "source": [
    "Calibration of audiometers: <br>\n",
    "DIN EN ISO 389-1 (2000) <br>\n",
    "DIN EN ISO 389-2 (1996) <br>\n",
    "DIN EN ISO 389-3 (1999) <br>\n",
    "DIN EN ISO 389-4 (1999) <br>\n",
    "DIN EN ISO 389-5 (2007) <br>\n",
    "DIN EN ISO 389-6 (2007) <br>\n",
    "DIN EN ISO 389-7 (2006) <br>\n",
    "DIN EN ISO 389-8 (2004) <br>\n",
    "DIN EN ISO 389-9 (2009) <br>"
   ]
  }
 ],
 "metadata": {
  "kernelspec": {
   "display_name": "Python 3",
   "language": "python",
   "name": "python3"
  },
  "language_info": {
   "codemirror_mode": {
    "name": "ipython",
    "version": 3
   },
   "file_extension": ".py",
   "mimetype": "text/x-python",
   "name": "python",
   "nbconvert_exporter": "python",
   "pygments_lexer": "ipython3",
   "version": "3.4.3"
  }
 },
 "nbformat": 4,
 "nbformat_minor": 0
}
