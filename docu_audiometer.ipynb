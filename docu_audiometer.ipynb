{
 "cells": [
  {
   "cell_type": "markdown",
   "metadata": {},
   "source": [
    "#Audiometer"
   ]
  },
  {
   "cell_type": "markdown",
   "metadata": {},
   "source": [
    "## 1) What is an audiometer?"
   ]
  },
  {
   "cell_type": "markdown",
   "metadata": {},
   "source": [
    "An audiometer is a device which evaluates the hearing ability. The hearing ability is characterized by the intensity and frequency range of sound that the human ear is capable to detect. Therefore, the audiometer plays pure tones of different frequency and intensity through a earspeaker, bone conduction hearing aid or a loudspeaker. The sequence of measurement is defined by the standard ISO EN 8253 1-3. The technical standard is described in ISO EN 60645 1-3."
   ]
  },
  {
   "cell_type": "markdown",
   "metadata": {
    "collapsed": true
   },
   "source": [
    "## 2) Instructions for the test persons"
   ]
  },
  {
   "cell_type": "markdown",
   "metadata": {},
   "source": [
    " * "
   ]
  },
  {
   "cell_type": "markdown",
   "metadata": {},
   "source": [
    "*"
   ]
  },
  {
   "cell_type": "markdown",
   "metadata": {},
   "source": [
    "*"
   ]
  },
  {
   "cell_type": "markdown",
   "metadata": {},
   "source": [
    "## 3) Determination of hearing threshold level with air conduction and fixed frequency"
   ]
  },
  {
   "cell_type": "markdown",
   "metadata": {},
   "source": [
    "### 3.1) Manually controlled determination of hearing threshold level"
   ]
  },
  {
   "cell_type": "markdown",
   "metadata": {},
   "source": [
    "Instructions: \n",
    "* Frequency range = 125 Hz - 8000 Hz (according to ISO 389-7 a frequency range of 20 Hz - 16000 Hz is also possible)\n",
    "* Continous test tone with a duration of 1-2 seconds\n",
    "* There is a break after the answer of the test person. The duration of break varies (not shorter than the duration of test tone)\n",
    "* At the beginning you have a test period to become familiar with using the sound system <br>\n",
    "  For Example:\n",
    "     * 1) Audible tone (e.g. 1000 Hz, 40 dB)\n",
    "     * 2) Decreasing level in steps of 20 dB until no answer is given\n",
    "     * 3) Increasing level in steps of 10 dB unitl an answer is given\n",
    "     * 4) Repeat the tone at the same level"
   ]
  },
  {
   "cell_type": "markdown",
   "metadata": {},
   "source": [
    "#### 3.1.1) Measuring hearing threshold level without masking"
   ]
  },
  {
   "cell_type": "markdown",
   "metadata": {},
   "source": [
    "### 3.2) Automatically registered determination of hearing threshold level"
   ]
  },
  {
   "cell_type": "markdown",
   "metadata": {},
   "source": [
    "# 4) Links"
   ]
  },
  {
   "cell_type": "markdown",
   "metadata": {},
   "source": [
    "https://de.wikipedia.org/wiki/B%C3%A9k%C3%A9sy-Audiometrie"
   ]
  },
  {
   "cell_type": "code",
   "execution_count": null,
   "metadata": {
    "collapsed": true
   },
   "outputs": [],
   "source": []
  }
 ],
 "metadata": {
  "kernelspec": {
   "display_name": "Python 3",
   "language": "python",
   "name": "python3"
  },
  "language_info": {
   "codemirror_mode": {
    "name": "ipython",
    "version": 3
   },
   "file_extension": ".py",
   "mimetype": "text/x-python",
   "name": "python",
   "nbconvert_exporter": "python",
   "pygments_lexer": "ipython3",
   "version": "3.4.3"
  }
 },
 "nbformat": 4,
 "nbformat_minor": 0
}
